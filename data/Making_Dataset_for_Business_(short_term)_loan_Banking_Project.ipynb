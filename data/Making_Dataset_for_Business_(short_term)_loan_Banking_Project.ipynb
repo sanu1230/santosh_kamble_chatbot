{
  "nbformat": 4,
  "nbformat_minor": 0,
  "metadata": {
    "colab": {
      "name": "Making Dataset for Business (short-term) loan Banking Project",
      "provenance": [],
      "collapsed_sections": [],
      "toc_visible": true
    },
    "kernelspec": {
      "name": "python3",
      "display_name": "Python 3"
    }
  },
  "cells": [
    {
      "cell_type": "markdown",
      "metadata": {
        "id": "bHcMMQWZLbkb"
      },
      "source": [
        "# Creating Dummy Dataset of bank for Personal Loan product"
      ]
    },
    {
      "cell_type": "markdown",
      "metadata": {
        "id": "aSnikLxyiIpv"
      },
      "source": [
        "## Attributes:\n",
        "\n",
        "- Date_of_dis => Date of loan disbursement\n",
        "- Customer_id\n",
        "- First_name\n",
        "- Last_name\n",
        "- Gender => (Male, Female)\n",
        "- Email\n",
        "- Phone\n",
        "- Age\n",
        "- Occupation => Customers occupation\n",
        "- Income\n",
        "- Marital_status => (Married, Single, Divorced, Widowed, Seperated)\n",
        "- Principle_Amount\n",
        "- Interest_rate\n",
        "- Processing_fee\n",
        "- Tenure => (12, 24, 36, 48, 60)months\n",
        "- EMI\n",
        "- First_duedate\n",
        "- Tenure_rem => Tenure Remaining\n",
        "- Principle_amt_rem => Principle amount remaining\n",
        "- Last_duedate\n",
        "- Next_duedate\n",
        "- Loan_status => (Active, Collection, Sold, Paidoff)\n",
        "- Loan_purpose => ('Bill Payments', 'Emergency Expenses', 'Home Repairs', 'Refinance', 'Medical Expense', 'Personal Expenses')"
      ]
    },
    {
      "cell_type": "code",
      "metadata": {
        "id": "KVkUf_grg4wS"
      },
      "source": [
        "import pandas as pd\n",
        "import numpy as np"
      ],
      "execution_count": 145,
      "outputs": []
    },
    {
      "cell_type": "code",
      "metadata": {
        "id": "GQ4ANH-XhERZ",
        "outputId": "c571cbd9-1c61-4769-c377-8205019f32ed",
        "colab": {
          "base_uri": "https://localhost:8080/",
          "height": 196
        }
      },
      "source": [
        "# Creating 1lac rows od 'Date of credit'\n",
        "\n",
        "date_range = pd.date_range(start='2018-01-01', end= '2019-12-31', freq='D')\n",
        "date = list(pd.Series(date_range))\n",
        "Date_of_cr = np.random.choice(date, 100000)\n",
        "df = pd.DataFrame(Date_of_cr, columns=['Date_of_cr'])\n",
        "df['Date_of_cr'] = sorted(df['Date_of_cr'])\n",
        "df.head()"
      ],
      "execution_count": 146,
      "outputs": [
        {
          "output_type": "execute_result",
          "data": {
            "text/html": [
              "<div>\n",
              "<style scoped>\n",
              "    .dataframe tbody tr th:only-of-type {\n",
              "        vertical-align: middle;\n",
              "    }\n",
              "\n",
              "    .dataframe tbody tr th {\n",
              "        vertical-align: top;\n",
              "    }\n",
              "\n",
              "    .dataframe thead th {\n",
              "        text-align: right;\n",
              "    }\n",
              "</style>\n",
              "<table border=\"1\" class=\"dataframe\">\n",
              "  <thead>\n",
              "    <tr style=\"text-align: right;\">\n",
              "      <th></th>\n",
              "      <th>Date_of_cr</th>\n",
              "    </tr>\n",
              "  </thead>\n",
              "  <tbody>\n",
              "    <tr>\n",
              "      <th>0</th>\n",
              "      <td>2018-01-01</td>\n",
              "    </tr>\n",
              "    <tr>\n",
              "      <th>1</th>\n",
              "      <td>2018-01-01</td>\n",
              "    </tr>\n",
              "    <tr>\n",
              "      <th>2</th>\n",
              "      <td>2018-01-01</td>\n",
              "    </tr>\n",
              "    <tr>\n",
              "      <th>3</th>\n",
              "      <td>2018-01-01</td>\n",
              "    </tr>\n",
              "    <tr>\n",
              "      <th>4</th>\n",
              "      <td>2018-01-01</td>\n",
              "    </tr>\n",
              "  </tbody>\n",
              "</table>\n",
              "</div>"
            ],
            "text/plain": [
              "  Date_of_cr\n",
              "0 2018-01-01\n",
              "1 2018-01-01\n",
              "2 2018-01-01\n",
              "3 2018-01-01\n",
              "4 2018-01-01"
            ]
          },
          "metadata": {
            "tags": []
          },
          "execution_count": 146
        }
      ]
    },
    {
      "cell_type": "code",
      "metadata": {
        "id": "AHq-eS9aAryP",
        "outputId": "8ac07487-1a12-41b7-b849-7b0e05572364",
        "colab": {
          "base_uri": "https://localhost:8080/"
        }
      },
      "source": [
        "df.shape"
      ],
      "execution_count": 147,
      "outputs": [
        {
          "output_type": "execute_result",
          "data": {
            "text/plain": [
              "(100000, 1)"
            ]
          },
          "metadata": {
            "tags": []
          },
          "execution_count": 147
        }
      ]
    },
    {
      "cell_type": "code",
      "metadata": {
        "id": "1D9TOJiWAu2r",
        "outputId": "fd606741-93cf-47c9-8b34-597757477278",
        "colab": {
          "base_uri": "https://localhost:8080/",
          "height": 196
        }
      },
      "source": [
        "# Creating Customer Id data\n",
        "import random\n",
        "\n",
        "df['Customer_id'] = sorted(random.sample(range(1000000, 9999999), len(df['Date_of_cr']))) \n",
        "df.head()"
      ],
      "execution_count": 148,
      "outputs": [
        {
          "output_type": "execute_result",
          "data": {
            "text/html": [
              "<div>\n",
              "<style scoped>\n",
              "    .dataframe tbody tr th:only-of-type {\n",
              "        vertical-align: middle;\n",
              "    }\n",
              "\n",
              "    .dataframe tbody tr th {\n",
              "        vertical-align: top;\n",
              "    }\n",
              "\n",
              "    .dataframe thead th {\n",
              "        text-align: right;\n",
              "    }\n",
              "</style>\n",
              "<table border=\"1\" class=\"dataframe\">\n",
              "  <thead>\n",
              "    <tr style=\"text-align: right;\">\n",
              "      <th></th>\n",
              "      <th>Date_of_cr</th>\n",
              "      <th>Customer_id</th>\n",
              "    </tr>\n",
              "  </thead>\n",
              "  <tbody>\n",
              "    <tr>\n",
              "      <th>0</th>\n",
              "      <td>2018-01-01</td>\n",
              "      <td>1000049</td>\n",
              "    </tr>\n",
              "    <tr>\n",
              "      <th>1</th>\n",
              "      <td>2018-01-01</td>\n",
              "      <td>1000063</td>\n",
              "    </tr>\n",
              "    <tr>\n",
              "      <th>2</th>\n",
              "      <td>2018-01-01</td>\n",
              "      <td>1000080</td>\n",
              "    </tr>\n",
              "    <tr>\n",
              "      <th>3</th>\n",
              "      <td>2018-01-01</td>\n",
              "      <td>1000172</td>\n",
              "    </tr>\n",
              "    <tr>\n",
              "      <th>4</th>\n",
              "      <td>2018-01-01</td>\n",
              "      <td>1000197</td>\n",
              "    </tr>\n",
              "  </tbody>\n",
              "</table>\n",
              "</div>"
            ],
            "text/plain": [
              "  Date_of_cr  Customer_id\n",
              "0 2018-01-01      1000049\n",
              "1 2018-01-01      1000063\n",
              "2 2018-01-01      1000080\n",
              "3 2018-01-01      1000172\n",
              "4 2018-01-01      1000197"
            ]
          },
          "metadata": {
            "tags": []
          },
          "execution_count": 148
        }
      ]
    },
    {
      "cell_type": "code",
      "metadata": {
        "id": "7AvCpyAjj9cE"
      },
      "source": [
        "lastname = pd.read_csv('/content/drive/My Drive/Colab Notebooks/iNeuron Project/Indian-Last-Names.csv')\n",
        "\n",
        "\n",
        "# removing all missing data and non alpha data\n",
        "l_name=[]\n",
        "\n",
        "for x in lastname['Last_names']:\n",
        "  if type(x) == str:\n",
        "    l_name.append(x)\n",
        "\n",
        "# taking only the first word of the name\n",
        "last_name = []\n",
        "\n",
        "for x in l_name:\n",
        "  last_name.append(x.split()[0])\n"
      ],
      "execution_count": 149,
      "outputs": []
    },
    {
      "cell_type": "code",
      "metadata": {
        "id": "GU_n517CcKPQ",
        "outputId": "31906711-213a-4571-e64c-b994fa2bd5d9",
        "colab": {
          "base_uri": "https://localhost:8080/"
        }
      },
      "source": [
        "len(last_name)"
      ],
      "execution_count": 150,
      "outputs": [
        {
          "output_type": "execute_result",
          "data": {
            "text/plain": [
              "564"
            ]
          },
          "metadata": {
            "tags": []
          },
          "execution_count": 150
        }
      ]
    },
    {
      "cell_type": "code",
      "metadata": {
        "id": "Eapv0QvuF-Qj"
      },
      "source": [
        "# Creating 1 lac names (50k male & 50k female names)\n",
        "\n",
        "malename = pd.read_csv('/content/drive/My Drive/Colab Notebooks/iNeuron Project/Indian-Male-Names.csv')\n",
        "# malename = malename.drop(['gender', 'race'], axis=1)\n",
        "\n",
        "femalename = pd.read_csv('/content/drive/My Drive/Colab Notebooks/iNeuron Project/Indian-Female-Names.csv')\n",
        "# femalename = femalename.drop(['gender', 'race'], axis=1)\n"
      ],
      "execution_count": 151,
      "outputs": []
    },
    {
      "cell_type": "code",
      "metadata": {
        "id": "Wg0sX1mqt2gt",
        "outputId": "a79dd4b4-f836-44a1-8ba3-5317e9469bf1",
        "colab": {
          "base_uri": "https://localhost:8080/"
        }
      },
      "source": [
        "malename['name'] = malename['name'].astype('string') \n",
        "malename.info()"
      ],
      "execution_count": 152,
      "outputs": [
        {
          "output_type": "stream",
          "text": [
            "<class 'pandas.core.frame.DataFrame'>\n",
            "RangeIndex: 14845 entries, 0 to 14844\n",
            "Data columns (total 3 columns):\n",
            " #   Column  Non-Null Count  Dtype \n",
            "---  ------  --------------  ----- \n",
            " 0   name    14821 non-null  string\n",
            " 1   gender  14845 non-null  object\n",
            " 2   race    14845 non-null  object\n",
            "dtypes: object(2), string(1)\n",
            "memory usage: 348.1+ KB\n"
          ],
          "name": "stdout"
        }
      ]
    },
    {
      "cell_type": "code",
      "metadata": {
        "id": "PfkChRVPesO9"
      },
      "source": [
        "# removing all missing data and non alpha data\n",
        "malefirstname=[]\n",
        "other = []\n",
        "\n",
        "for x in malename['name']:\n",
        "  if type(x) == str:\n",
        "    x = x.replace('@', '').split()[0]\n",
        "    if x.isalpha():\n",
        "      malefirstname.append(x)\n",
        "    else:\n",
        "      other.append(x)\n",
        "\n",
        "# -------------------------------------\n",
        "femalefirstname=[]\n",
        "\n",
        "for x in femalename['name']:\n",
        "  if type(x) == str:\n",
        "    x = x.replace('@', '').split()[0]\n",
        "    if x.isalpha():\n",
        "      femalefirstname.append(x)"
      ],
      "execution_count": 153,
      "outputs": []
    },
    {
      "cell_type": "code",
      "metadata": {
        "id": "AUKop14rdlhV"
      },
      "source": [
        "malefirstname50k = np.random.choice(malefirstname, 50000)\n",
        "femalefirstname50k = np.random.choice(femalefirstname, 50000)"
      ],
      "execution_count": 154,
      "outputs": []
    },
    {
      "cell_type": "code",
      "metadata": {
        "id": "V-YWdbpferyp",
        "outputId": "0474a3b9-78ce-42be-8f77-910597c1f75a",
        "colab": {
          "base_uri": "https://localhost:8080/"
        }
      },
      "source": [
        "mgender = []\n",
        "\n",
        "for x in range(50000):\n",
        "  mgender.append('Male')\n",
        "\n",
        "\n",
        "len(mgender)\n"
      ],
      "execution_count": 155,
      "outputs": [
        {
          "output_type": "execute_result",
          "data": {
            "text/plain": [
              "50000"
            ]
          },
          "metadata": {
            "tags": []
          },
          "execution_count": 155
        }
      ]
    },
    {
      "cell_type": "code",
      "metadata": {
        "id": "uWlP6K-bf7hR",
        "outputId": "4656f99a-876f-49c6-f80f-5e084465bbfb",
        "colab": {
          "base_uri": "https://localhost:8080/"
        }
      },
      "source": [
        "fgender = []\n",
        "\n",
        "for x in range(50000):\n",
        "  fgender.append('Female')\n",
        "\n",
        "\n",
        "len(fgender)"
      ],
      "execution_count": 156,
      "outputs": [
        {
          "output_type": "execute_result",
          "data": {
            "text/plain": [
              "50000"
            ]
          },
          "metadata": {
            "tags": []
          },
          "execution_count": 156
        }
      ]
    },
    {
      "cell_type": "code",
      "metadata": {
        "id": "wJRiL8k6eRD7"
      },
      "source": [
        "Mnamedata = pd.DataFrame(list(zip(malefirstname50k, mgender)), columns=['First_name', 'Gender'])\n",
        "Fnamedata = pd.DataFrame(list(zip(femalefirstname50k, fgender)), columns=['First_name', 'Gender'])"
      ],
      "execution_count": 157,
      "outputs": []
    },
    {
      "cell_type": "code",
      "metadata": {
        "id": "ec9SMn2chZai",
        "outputId": "6b83330e-848c-4c38-edcc-039e6ba48bb0",
        "colab": {
          "base_uri": "https://localhost:8080/",
          "height": 345
        }
      },
      "source": [
        "bothname_genderdata = pd.concat([Mnamedata, Fnamedata], axis=0, ignore_index=True)\n",
        "bothname_genderdata = bothname_genderdata.apply(np.random.permutation, axis=0)   \n",
        "bothname_genderdata.head(10)"
      ],
      "execution_count": 158,
      "outputs": [
        {
          "output_type": "execute_result",
          "data": {
            "text/html": [
              "<div>\n",
              "<style scoped>\n",
              "    .dataframe tbody tr th:only-of-type {\n",
              "        vertical-align: middle;\n",
              "    }\n",
              "\n",
              "    .dataframe tbody tr th {\n",
              "        vertical-align: top;\n",
              "    }\n",
              "\n",
              "    .dataframe thead th {\n",
              "        text-align: right;\n",
              "    }\n",
              "</style>\n",
              "<table border=\"1\" class=\"dataframe\">\n",
              "  <thead>\n",
              "    <tr style=\"text-align: right;\">\n",
              "      <th></th>\n",
              "      <th>First_name</th>\n",
              "      <th>Gender</th>\n",
              "    </tr>\n",
              "  </thead>\n",
              "  <tbody>\n",
              "    <tr>\n",
              "      <th>0</th>\n",
              "      <td>gulshan</td>\n",
              "      <td>Male</td>\n",
              "    </tr>\n",
              "    <tr>\n",
              "      <th>1</th>\n",
              "      <td>vaijanti</td>\n",
              "      <td>Female</td>\n",
              "    </tr>\n",
              "    <tr>\n",
              "      <th>2</th>\n",
              "      <td>karishma</td>\n",
              "      <td>Female</td>\n",
              "    </tr>\n",
              "    <tr>\n",
              "      <th>3</th>\n",
              "      <td>km</td>\n",
              "      <td>Female</td>\n",
              "    </tr>\n",
              "    <tr>\n",
              "      <th>4</th>\n",
              "      <td>deepa</td>\n",
              "      <td>Male</td>\n",
              "    </tr>\n",
              "    <tr>\n",
              "      <th>5</th>\n",
              "      <td>jagan</td>\n",
              "      <td>Male</td>\n",
              "    </tr>\n",
              "    <tr>\n",
              "      <th>6</th>\n",
              "      <td>amit</td>\n",
              "      <td>Female</td>\n",
              "    </tr>\n",
              "    <tr>\n",
              "      <th>7</th>\n",
              "      <td>rooshi</td>\n",
              "      <td>Female</td>\n",
              "    </tr>\n",
              "    <tr>\n",
              "      <th>8</th>\n",
              "      <td>bharti</td>\n",
              "      <td>Male</td>\n",
              "    </tr>\n",
              "    <tr>\n",
              "      <th>9</th>\n",
              "      <td>seema</td>\n",
              "      <td>Female</td>\n",
              "    </tr>\n",
              "  </tbody>\n",
              "</table>\n",
              "</div>"
            ],
            "text/plain": [
              "  First_name  Gender\n",
              "0    gulshan    Male\n",
              "1   vaijanti  Female\n",
              "2   karishma  Female\n",
              "3         km  Female\n",
              "4      deepa    Male\n",
              "5      jagan    Male\n",
              "6       amit  Female\n",
              "7     rooshi  Female\n",
              "8     bharti    Male\n",
              "9      seema  Female"
            ]
          },
          "metadata": {
            "tags": []
          },
          "execution_count": 158
        }
      ]
    },
    {
      "cell_type": "code",
      "metadata": {
        "id": "r4iH3I8AiYv2"
      },
      "source": [
        "df = pd.concat([df, bothname_genderdata], join='inner', axis=1)"
      ],
      "execution_count": 159,
      "outputs": []
    },
    {
      "cell_type": "code",
      "metadata": {
        "id": "Hkk9BgLRjAyN",
        "outputId": "2199cc01-97fc-4a4b-91f4-31721ad509b2",
        "colab": {
          "base_uri": "https://localhost:8080/",
          "height": 196
        }
      },
      "source": [
        "df.head()"
      ],
      "execution_count": 160,
      "outputs": [
        {
          "output_type": "execute_result",
          "data": {
            "text/html": [
              "<div>\n",
              "<style scoped>\n",
              "    .dataframe tbody tr th:only-of-type {\n",
              "        vertical-align: middle;\n",
              "    }\n",
              "\n",
              "    .dataframe tbody tr th {\n",
              "        vertical-align: top;\n",
              "    }\n",
              "\n",
              "    .dataframe thead th {\n",
              "        text-align: right;\n",
              "    }\n",
              "</style>\n",
              "<table border=\"1\" class=\"dataframe\">\n",
              "  <thead>\n",
              "    <tr style=\"text-align: right;\">\n",
              "      <th></th>\n",
              "      <th>Date_of_cr</th>\n",
              "      <th>Customer_id</th>\n",
              "      <th>First_name</th>\n",
              "      <th>Gender</th>\n",
              "    </tr>\n",
              "  </thead>\n",
              "  <tbody>\n",
              "    <tr>\n",
              "      <th>0</th>\n",
              "      <td>2018-01-01</td>\n",
              "      <td>1000049</td>\n",
              "      <td>gulshan</td>\n",
              "      <td>Male</td>\n",
              "    </tr>\n",
              "    <tr>\n",
              "      <th>1</th>\n",
              "      <td>2018-01-01</td>\n",
              "      <td>1000063</td>\n",
              "      <td>vaijanti</td>\n",
              "      <td>Female</td>\n",
              "    </tr>\n",
              "    <tr>\n",
              "      <th>2</th>\n",
              "      <td>2018-01-01</td>\n",
              "      <td>1000080</td>\n",
              "      <td>karishma</td>\n",
              "      <td>Female</td>\n",
              "    </tr>\n",
              "    <tr>\n",
              "      <th>3</th>\n",
              "      <td>2018-01-01</td>\n",
              "      <td>1000172</td>\n",
              "      <td>km</td>\n",
              "      <td>Female</td>\n",
              "    </tr>\n",
              "    <tr>\n",
              "      <th>4</th>\n",
              "      <td>2018-01-01</td>\n",
              "      <td>1000197</td>\n",
              "      <td>deepa</td>\n",
              "      <td>Male</td>\n",
              "    </tr>\n",
              "  </tbody>\n",
              "</table>\n",
              "</div>"
            ],
            "text/plain": [
              "  Date_of_cr  Customer_id First_name  Gender\n",
              "0 2018-01-01      1000049    gulshan    Male\n",
              "1 2018-01-01      1000063   vaijanti  Female\n",
              "2 2018-01-01      1000080   karishma  Female\n",
              "3 2018-01-01      1000172         km  Female\n",
              "4 2018-01-01      1000197      deepa    Male"
            ]
          },
          "metadata": {
            "tags": []
          },
          "execution_count": 160
        }
      ]
    },
    {
      "cell_type": "code",
      "metadata": {
        "id": "p3Ehaa9ysj_8"
      },
      "source": [
        "df['Last_name'] = np.random.choice(last_name, 100000)"
      ],
      "execution_count": 161,
      "outputs": []
    },
    {
      "cell_type": "code",
      "metadata": {
        "id": "rgDLJ634tL3h"
      },
      "source": [
        "df['First_name'] = df.First_name.str.capitalize()\n",
        "df['Last_name'] = df.Last_name.str.capitalize()"
      ],
      "execution_count": 162,
      "outputs": []
    },
    {
      "cell_type": "code",
      "metadata": {
        "id": "aiSEQ0H5ph22",
        "outputId": "6598a8a3-6245-4898-9342-5e19e9b9e834",
        "colab": {
          "base_uri": "https://localhost:8080/",
          "height": 196
        }
      },
      "source": [
        "df = df[['Date_of_cr',\t'Customer_id',\t'First_name', 'Last_name', 'Gender']]\n",
        "df.head()"
      ],
      "execution_count": 64,
      "outputs": [
        {
          "output_type": "execute_result",
          "data": {
            "text/html": [
              "<div>\n",
              "<style scoped>\n",
              "    .dataframe tbody tr th:only-of-type {\n",
              "        vertical-align: middle;\n",
              "    }\n",
              "\n",
              "    .dataframe tbody tr th {\n",
              "        vertical-align: top;\n",
              "    }\n",
              "\n",
              "    .dataframe thead th {\n",
              "        text-align: right;\n",
              "    }\n",
              "</style>\n",
              "<table border=\"1\" class=\"dataframe\">\n",
              "  <thead>\n",
              "    <tr style=\"text-align: right;\">\n",
              "      <th></th>\n",
              "      <th>Date_of_cr</th>\n",
              "      <th>Customer_id</th>\n",
              "      <th>First_name</th>\n",
              "      <th>Last_name</th>\n",
              "      <th>Gender</th>\n",
              "    </tr>\n",
              "  </thead>\n",
              "  <tbody>\n",
              "    <tr>\n",
              "      <th>0</th>\n",
              "      <td>2018-01-01</td>\n",
              "      <td>1000388</td>\n",
              "      <td>Arif</td>\n",
              "      <td>Manda</td>\n",
              "      <td>Male</td>\n",
              "    </tr>\n",
              "    <tr>\n",
              "      <th>1</th>\n",
              "      <td>2018-01-01</td>\n",
              "      <td>1000425</td>\n",
              "      <td>Aatif</td>\n",
              "      <td>Das</td>\n",
              "      <td>Male</td>\n",
              "    </tr>\n",
              "    <tr>\n",
              "      <th>2</th>\n",
              "      <td>2018-01-01</td>\n",
              "      <td>1000513</td>\n",
              "      <td>Gorav</td>\n",
              "      <td>Sem</td>\n",
              "      <td>Male</td>\n",
              "    </tr>\n",
              "    <tr>\n",
              "      <th>3</th>\n",
              "      <td>2018-01-01</td>\n",
              "      <td>1000586</td>\n",
              "      <td>Sandeep</td>\n",
              "      <td>Minhas</td>\n",
              "      <td>Male</td>\n",
              "    </tr>\n",
              "    <tr>\n",
              "      <th>4</th>\n",
              "      <td>2018-01-01</td>\n",
              "      <td>1000807</td>\n",
              "      <td>Arun</td>\n",
              "      <td>Mehrotra</td>\n",
              "      <td>Male</td>\n",
              "    </tr>\n",
              "  </tbody>\n",
              "</table>\n",
              "</div>"
            ],
            "text/plain": [
              "  Date_of_cr  Customer_id First_name Last_name Gender\n",
              "0 2018-01-01      1000388       Arif     Manda   Male\n",
              "1 2018-01-01      1000425      Aatif       Das   Male\n",
              "2 2018-01-01      1000513      Gorav       Sem   Male\n",
              "3 2018-01-01      1000586    Sandeep    Minhas   Male\n",
              "4 2018-01-01      1000807       Arun  Mehrotra   Male"
            ]
          },
          "metadata": {
            "tags": []
          },
          "execution_count": 64
        }
      ]
    },
    {
      "cell_type": "code",
      "metadata": {
        "id": "fx7hrXioxEIN"
      },
      "source": [
        "# Creating Email\n",
        "df['Email'] = df.First_name.str.lower() + '.' + df.Last_name.str.lower() + '@dummyemail.com'"
      ],
      "execution_count": 163,
      "outputs": []
    },
    {
      "cell_type": "code",
      "metadata": {
        "id": "K6DX5xg_xyIK"
      },
      "source": [
        "# Creating Phone #\n",
        "\n",
        "df['Phone'] = random.sample(range(7000000000, 9999999999), 100000)"
      ],
      "execution_count": 164,
      "outputs": []
    },
    {
      "cell_type": "code",
      "metadata": {
        "id": "d5JLQ4E6y9v5"
      },
      "source": [
        "# Creating Age\n",
        "\n",
        "df['Age'] = np.random.choice(range(25, 55), 100000)"
      ],
      "execution_count": 165,
      "outputs": []
    },
    {
      "cell_type": "code",
      "metadata": {
        "id": "Qx6E_l3nzdcs"
      },
      "source": [
        "# Creating Occupation\n",
        "\n",
        "occupation = ['Engineer', 'Teacher', 'Architect', 'Consultant', 'Scientist', 'Software Developer',\n",
        "              'Lawyer', 'Psychologist', 'Veterinarian', 'Civil Engineer', 'Surveyor', 'Secretary',\n",
        "              'Broker', 'Train_driver', 'Physician', 'Furniture Designer', 'Aviator', 'Estate agent',\n",
        "              'Domestic worker', 'Chef', 'Hotel Manager', 'Financial Analyst', 'Political scientist',\n",
        "              'Author', 'Biomedical Engineer', 'Official', 'Mathematician', 'Loan Officer', 'Machinist',\n",
        "              'Musician', 'Businessperson', 'Civil servant', 'Tailor', 'Politician', 'Designer', 'Industrial Engineer',\n",
        "              'Physiotherapist', 'Drafter', 'Rocket scientist', 'Graphic Designer', 'Health professional',\n",
        "              'Petroleum Engineer', 'Flight attendant', 'Historian', 'Mechanical engineer', 'Flight engineer',\n",
        "              'Professor', 'Army officer', 'Makeup Artist', 'School counselor', 'Computer operator', 'Govt.Service',\n",
        "              'Service', 'Self Employed']\n",
        "\n",
        "df['Occupation'] = np.random.choice(occupation, 100000)"
      ],
      "execution_count": 166,
      "outputs": []
    },
    {
      "cell_type": "code",
      "metadata": {
        "id": "50S3gSZn2NeO"
      },
      "source": [
        "# Creating income column\n",
        "df['Income'] = np.random.randint(300000, 3000000, 100000)"
      ],
      "execution_count": 167,
      "outputs": []
    },
    {
      "cell_type": "code",
      "metadata": {
        "id": "Zi3KScuu4M-z"
      },
      "source": [
        "# Creating maritak status\n",
        "\n",
        "marital_status = ['Married', 'Divorced', 'Single', 'Widowed', 'Separated']\n",
        "\n",
        "df['Marital_status'] = np.random.choice(marital_status, 100000, p=[0.6, 0.1, 0.1, 0.1, 0.1])"
      ],
      "execution_count": 168,
      "outputs": []
    },
    {
      "cell_type": "code",
      "metadata": {
        "id": "yR0htrEK5Q4_"
      },
      "source": [
        "# Creating Principle Amount\n",
        "\n",
        "df['Principle_Amount'] = np.random.randint(300, 3000, 100000)\n",
        "df['Principle_Amount'] = df['Principle_Amount']*1000"
      ],
      "execution_count": 169,
      "outputs": []
    },
    {
      "cell_type": "code",
      "metadata": {
        "id": "SBs4SKPy82D6"
      },
      "source": [
        "# Creating Interest rate\n",
        "\n",
        "df['Interest_rate'] = np.random.uniform(14, 24, 100000)\n",
        "df['Interest_rate'] = df['Interest_rate'].round(2)"
      ],
      "execution_count": 170,
      "outputs": []
    },
    {
      "cell_type": "code",
      "metadata": {
        "id": "OxMOHzL99qAH"
      },
      "source": [
        "# Processing fee is 0.35% of the principle amount\n",
        "\n",
        "df['Processing_fee'] = df['Principle_Amount']*0.35/100"
      ],
      "execution_count": 171,
      "outputs": []
    },
    {
      "cell_type": "code",
      "metadata": {
        "id": "pCAK23A3-ava"
      },
      "source": [
        "# Tenure\n",
        "tenure = [12, 24, 36, 48, 60]\n",
        "df['Tenure'] = np.random.choice(tenure, 100000)"
      ],
      "execution_count": 172,
      "outputs": []
    },
    {
      "cell_type": "code",
      "metadata": {
        "id": "EB_NcqZWBbVH"
      },
      "source": [
        "# Creating EMI based on principle amount, interest rate & tenure\n",
        "\n",
        "df['EMI'] = ((df['Tenure']/12)*(df['Interest_rate'])+df['Principle_Amount'])/df['Tenure']\n",
        "df['EMI'] = df['EMI'].round(2)"
      ],
      "execution_count": 173,
      "outputs": []
    },
    {
      "cell_type": "code",
      "metadata": {
        "id": "cPdEvW3ZF583"
      },
      "source": [
        "# creating due date\n",
        "\n",
        "date = [2, 10, 17, 24]\n",
        "dates = np.random.choice(date, 100000)\n",
        "year = []\n",
        "month= []\n",
        "\n",
        "for x in df['Date_of_cr']:\n",
        "  y = x.year\n",
        "  year.append(y)\n",
        "  m = x.month\n",
        "  month.append(m)\n",
        "\n",
        "duedate = pd.DataFrame(list(zip(year, month, dates)), columns=['year', 'month', 'day'])\n",
        "\n",
        "df['First_duedate'] = pd.to_datetime(duedate[['year', 'month', 'day']])"
      ],
      "execution_count": 177,
      "outputs": []
    },
    {
      "cell_type": "code",
      "metadata": {
        "id": "mPc5Ifd6A6E5",
        "outputId": "364afaf7-7c5e-44f1-b9c2-1eb65f886a95",
        "colab": {
          "base_uri": "https://localhost:8080/"
        }
      },
      "source": [
        "for index, row in df.iterrows():\n",
        "  if row['Tenure'] == 12 and row['First_duedate'].year == 2018:\n",
        "    y = str(random.choices(range(12), weights=range(13, 1, -1))).strip('[]')\n",
        "    \n",
        "print(y)"
      ],
      "execution_count": 178,
      "outputs": [
        {
          "output_type": "stream",
          "text": [
            "9\n"
          ],
          "name": "stdout"
        }
      ]
    },
    {
      "cell_type": "code",
      "metadata": {
        "id": "ajdNYnHV-56K"
      },
      "source": [
        "# Tenure remaining\n",
        "import random\n",
        "\n",
        "tenure_rem = []\n",
        "for index, row in df.iterrows():\n",
        "  if row['Tenure'] == 12 and row['First_duedate'].year == 2018:\n",
        "    y = str(random.choices(np.arange(0, 12), weights=range(12, 0, -1))).strip('[]')\n",
        "    tenure_rem.append(y)\n",
        "  elif row['Tenure'] == 12 and row['First_duedate'].year == 2019:\n",
        "    y = str(random.choices(np.arange(0, 12), weights=range(12, 0, -1))).strip('[]')\n",
        "    tenure_rem.append(y)\n",
        "  elif row['Tenure'] == 24 and row['First_duedate'].year == 2018:\n",
        "    y = str(random.choices(np.arange(0, 24), weights=range(24, 0, -1))).strip('[]')\n",
        "    tenure_rem.append(y)\n",
        "  elif row['Tenure'] == 24 and row['First_duedate'].year == 2019:\n",
        "    y = str(random.choices(np.arange(0, 24), weights=range(24, 0, -1))).strip('[]')\n",
        "    tenure_rem.append(y)\n",
        "  elif row['Tenure'] == 36 and row['First_duedate'].year == 2018:\n",
        "    y = str(random.choices(np.arange(0, 36), weights=range(36, 0, -1))).strip('[]')\n",
        "    tenure_rem.append(y)\n",
        "  elif row['Tenure'] == 36 and row['First_duedate'].year == 2019:\n",
        "    y = str(random.choices(np.arange(0, 36), weights=range(36, 0, -1))).strip('[]')\n",
        "    tenure_rem.append(y)\n",
        "  elif row['Tenure'] == 48 and row['First_duedate'].year == 2018:\n",
        "    y = str(random.choices(np.arange(0, 48), weights=range(48, 0, -1))).strip('[]')\n",
        "    tenure_rem.append(y)\n",
        "  elif row['Tenure'] == 48 and row['First_duedate'].year == 2019:\n",
        "    y = str(random.choices(np.arange(0, 48), weights=range(48, 0, -1))).strip('[]')\n",
        "    tenure_rem.append(y)\n",
        "  elif row['Tenure'] == 60 and row['First_duedate'].year == 2018:\n",
        "    y = str(random.choices(np.arange(0, 60), weights=range(60, 0, -1))).strip('[]')\n",
        "    tenure_rem.append(y)\n",
        "  elif row['Tenure'] == 60 and row['First_duedate'].year == 2019:\n",
        "    y = str(random.choices(np.arange(0, 60), weights=range(60, 0, -1))).strip('[]')\n",
        "    tenure_rem.append(y)\n",
        "\n",
        "df['Tenure_rem'] = tenure_rem\n",
        "df['Tenure_rem'] = df['Tenure_rem'].astype('int')"
      ],
      "execution_count": 179,
      "outputs": []
    },
    {
      "cell_type": "code",
      "metadata": {
        "id": "-SJ7Oi37DdMD"
      },
      "source": [
        "# Principle amount remaining\n",
        "\n",
        "df['Principle_amt_rem'] = df['Principle_Amount'] - (((df['Tenure'] - df['Tenure_rem'])*df['EMI'])*60/100)\n",
        "df['Principle_amt_rem'] =df['Principle_amt_rem'].round(2)"
      ],
      "execution_count": 180,
      "outputs": []
    },
    {
      "cell_type": "code",
      "metadata": {
        "id": "vxE_2-OSNiFb"
      },
      "source": [
        "# Finding last Due date\n",
        "from datetime import date\n",
        "from dateutil.relativedelta import relativedelta\n",
        "\n",
        "last_duedate = []\n",
        "for index, row in df.iterrows():\n",
        "  ld = row['First_duedate'] + relativedelta(months=+row['Tenure'])\n",
        "  last_duedate.append(ld)\n",
        "\n",
        "df['Last_duedate'] = last_duedate"
      ],
      "execution_count": 181,
      "outputs": []
    },
    {
      "cell_type": "code",
      "metadata": {
        "id": "H0-46xflN7ky"
      },
      "source": [
        "# Next Duedate\n",
        "from datetime import datetime\n",
        "\n",
        "next_duedate = []\n",
        "\n",
        "for index, row in df.iterrows():\n",
        "  nd = row['First_duedate'] + relativedelta(months=+(row['Tenure'] - row['Tenure_rem']))\n",
        "  next_duedate.append(nd)\n",
        "\n",
        "df['Next_duedate'] = next_duedate"
      ],
      "execution_count": 182,
      "outputs": []
    },
    {
      "cell_type": "code",
      "metadata": {
        "id": "ZNjpD1V6O3RJ"
      },
      "source": [
        "# Loan Status\n",
        "from datetime import datetime\n",
        "\n",
        "loanstatus = []\n",
        "\n",
        "for index, row in df.iterrows():\n",
        "  if row['Next_duedate'] >= datetime.now() and row['Next_duedate'] <= row['Last_duedate']:\n",
        "    loanstatus.append('Active')\n",
        "  elif row['Next_duedate'] < datetime.now() and row['Next_duedate'] < row['Last_duedate']:\n",
        "    if row['Next_duedate'] >= (datetime.now() - relativedelta(months=+3)) and row['Next_duedate'] < datetime.now():\n",
        "      loanstatus.append('Collection')\n",
        "    elif row['Next_duedate'] < (datetime.now() - relativedelta(months=+3)) and row['Next_duedate'] < datetime.now():\n",
        "      loanstatus.append('Sold')\n",
        "  elif row['Next_duedate'] <= datetime.now() and row['Next_duedate'] >= row['Last_duedate']:\n",
        "    loanstatus.append('Paidoff')\n",
        "  \n",
        "\n",
        "df['Loan_status'] = loanstatus"
      ],
      "execution_count": 183,
      "outputs": []
    },
    {
      "cell_type": "code",
      "metadata": {
        "id": "mtHgttFqVbkt",
        "outputId": "5efc914e-1960-4ef9-c47e-1e48b6308c0f",
        "colab": {
          "base_uri": "https://localhost:8080/"
        }
      },
      "source": [
        "df.Loan_status.value_counts()"
      ],
      "execution_count": 184,
      "outputs": [
        {
          "output_type": "execute_result",
          "data": {
            "text/plain": [
              "Active        50318\n",
              "Sold          39535\n",
              "Collection     6670\n",
              "Paidoff        3477\n",
              "Name: Loan_status, dtype: int64"
            ]
          },
          "metadata": {
            "tags": []
          },
          "execution_count": 184
        }
      ]
    },
    {
      "cell_type": "code",
      "metadata": {
        "id": "O07n4kZPpwrI"
      },
      "source": [
        "# Loan Purpose \n",
        "\n",
        "purpose = ['Bill Payments', 'Emergency Expenses', 'Home Repairs', 'Refinance', 'Medical Expense', 'Personal Expenses']\n",
        "\n",
        "df['Loan_purpose'] = np.random.choice(purpose, 100000)"
      ],
      "execution_count": 185,
      "outputs": []
    },
    {
      "cell_type": "code",
      "metadata": {
        "id": "cuZQGsGXw5-B",
        "outputId": "d2deb510-c07a-465f-dbfa-e6132957b4a8",
        "colab": {
          "base_uri": "https://localhost:8080/",
          "height": 266
        }
      },
      "source": [
        "df.head()"
      ],
      "execution_count": 187,
      "outputs": [
        {
          "output_type": "execute_result",
          "data": {
            "text/html": [
              "<div>\n",
              "<style scoped>\n",
              "    .dataframe tbody tr th:only-of-type {\n",
              "        vertical-align: middle;\n",
              "    }\n",
              "\n",
              "    .dataframe tbody tr th {\n",
              "        vertical-align: top;\n",
              "    }\n",
              "\n",
              "    .dataframe thead th {\n",
              "        text-align: right;\n",
              "    }\n",
              "</style>\n",
              "<table border=\"1\" class=\"dataframe\">\n",
              "  <thead>\n",
              "    <tr style=\"text-align: right;\">\n",
              "      <th></th>\n",
              "      <th>Date_of_cr</th>\n",
              "      <th>Customer_id</th>\n",
              "      <th>First_name</th>\n",
              "      <th>Gender</th>\n",
              "      <th>Last_name</th>\n",
              "      <th>Email</th>\n",
              "      <th>Phone</th>\n",
              "      <th>Age</th>\n",
              "      <th>Occupation</th>\n",
              "      <th>Income</th>\n",
              "      <th>Marital_status</th>\n",
              "      <th>Principle_Amount</th>\n",
              "      <th>Interest_rate</th>\n",
              "      <th>Processing_fee</th>\n",
              "      <th>Tenure</th>\n",
              "      <th>EMI</th>\n",
              "      <th>First_duedate</th>\n",
              "      <th>Tenure_rem</th>\n",
              "      <th>Principle_amt_rem</th>\n",
              "      <th>Last_duedate</th>\n",
              "      <th>Next_duedate</th>\n",
              "      <th>Loan_status</th>\n",
              "      <th>Loan_purpose</th>\n",
              "    </tr>\n",
              "  </thead>\n",
              "  <tbody>\n",
              "    <tr>\n",
              "      <th>0</th>\n",
              "      <td>2018-01-01</td>\n",
              "      <td>1000049</td>\n",
              "      <td>Gulshan</td>\n",
              "      <td>Male</td>\n",
              "      <td>Bava</td>\n",
              "      <td>gulshan.bava@dummyemail.com</td>\n",
              "      <td>7719603790</td>\n",
              "      <td>53</td>\n",
              "      <td>Machinist</td>\n",
              "      <td>2713585</td>\n",
              "      <td>Widowed</td>\n",
              "      <td>2968000</td>\n",
              "      <td>20.06</td>\n",
              "      <td>10388.0</td>\n",
              "      <td>36</td>\n",
              "      <td>82446.12</td>\n",
              "      <td>2018-01-24</td>\n",
              "      <td>7</td>\n",
              "      <td>1533437.51</td>\n",
              "      <td>2021-01-24</td>\n",
              "      <td>2020-06-24</td>\n",
              "      <td>Sold</td>\n",
              "      <td>Medical Expense</td>\n",
              "    </tr>\n",
              "    <tr>\n",
              "      <th>1</th>\n",
              "      <td>2018-01-01</td>\n",
              "      <td>1000063</td>\n",
              "      <td>Vaijanti</td>\n",
              "      <td>Female</td>\n",
              "      <td>Buch</td>\n",
              "      <td>vaijanti.buch@dummyemail.com</td>\n",
              "      <td>7335296926</td>\n",
              "      <td>54</td>\n",
              "      <td>Musician</td>\n",
              "      <td>1124190</td>\n",
              "      <td>Divorced</td>\n",
              "      <td>571000</td>\n",
              "      <td>19.44</td>\n",
              "      <td>1998.5</td>\n",
              "      <td>24</td>\n",
              "      <td>23793.29</td>\n",
              "      <td>2018-01-02</td>\n",
              "      <td>3</td>\n",
              "      <td>271204.55</td>\n",
              "      <td>2020-01-02</td>\n",
              "      <td>2019-10-02</td>\n",
              "      <td>Sold</td>\n",
              "      <td>Bill Payments</td>\n",
              "    </tr>\n",
              "    <tr>\n",
              "      <th>2</th>\n",
              "      <td>2018-01-01</td>\n",
              "      <td>1000080</td>\n",
              "      <td>Karishma</td>\n",
              "      <td>Female</td>\n",
              "      <td>Atwal</td>\n",
              "      <td>karishma.atwal@dummyemail.com</td>\n",
              "      <td>7246621725</td>\n",
              "      <td>25</td>\n",
              "      <td>Political scientist</td>\n",
              "      <td>1469519</td>\n",
              "      <td>Divorced</td>\n",
              "      <td>2070000</td>\n",
              "      <td>18.99</td>\n",
              "      <td>7245.0</td>\n",
              "      <td>24</td>\n",
              "      <td>86251.58</td>\n",
              "      <td>2018-01-10</td>\n",
              "      <td>7</td>\n",
              "      <td>1190233.88</td>\n",
              "      <td>2020-01-10</td>\n",
              "      <td>2019-06-10</td>\n",
              "      <td>Sold</td>\n",
              "      <td>Emergency Expenses</td>\n",
              "    </tr>\n",
              "    <tr>\n",
              "      <th>3</th>\n",
              "      <td>2018-01-01</td>\n",
              "      <td>1000172</td>\n",
              "      <td>Km</td>\n",
              "      <td>Female</td>\n",
              "      <td>Ghosh</td>\n",
              "      <td>km.ghosh@dummyemail.com</td>\n",
              "      <td>9002228760</td>\n",
              "      <td>35</td>\n",
              "      <td>Musician</td>\n",
              "      <td>510205</td>\n",
              "      <td>Married</td>\n",
              "      <td>1260000</td>\n",
              "      <td>17.90</td>\n",
              "      <td>4410.0</td>\n",
              "      <td>48</td>\n",
              "      <td>26251.49</td>\n",
              "      <td>2018-01-10</td>\n",
              "      <td>29</td>\n",
              "      <td>960733.01</td>\n",
              "      <td>2022-01-10</td>\n",
              "      <td>2019-08-10</td>\n",
              "      <td>Sold</td>\n",
              "      <td>Home Repairs</td>\n",
              "    </tr>\n",
              "    <tr>\n",
              "      <th>4</th>\n",
              "      <td>2018-01-01</td>\n",
              "      <td>1000197</td>\n",
              "      <td>Deepa</td>\n",
              "      <td>Male</td>\n",
              "      <td>Devi</td>\n",
              "      <td>deepa.devi@dummyemail.com</td>\n",
              "      <td>9318153375</td>\n",
              "      <td>29</td>\n",
              "      <td>Health professional</td>\n",
              "      <td>1125503</td>\n",
              "      <td>Divorced</td>\n",
              "      <td>2471000</td>\n",
              "      <td>23.68</td>\n",
              "      <td>8648.5</td>\n",
              "      <td>48</td>\n",
              "      <td>51481.14</td>\n",
              "      <td>2018-01-02</td>\n",
              "      <td>9</td>\n",
              "      <td>1266341.32</td>\n",
              "      <td>2022-01-02</td>\n",
              "      <td>2021-04-02</td>\n",
              "      <td>Active</td>\n",
              "      <td>Emergency Expenses</td>\n",
              "    </tr>\n",
              "  </tbody>\n",
              "</table>\n",
              "</div>"
            ],
            "text/plain": [
              "  Date_of_cr  Customer_id  ... Loan_status        Loan_purpose\n",
              "0 2018-01-01      1000049  ...        Sold     Medical Expense\n",
              "1 2018-01-01      1000063  ...        Sold       Bill Payments\n",
              "2 2018-01-01      1000080  ...        Sold  Emergency Expenses\n",
              "3 2018-01-01      1000172  ...        Sold        Home Repairs\n",
              "4 2018-01-01      1000197  ...      Active  Emergency Expenses\n",
              "\n",
              "[5 rows x 23 columns]"
            ]
          },
          "metadata": {
            "tags": []
          },
          "execution_count": 187
        }
      ]
    },
    {
      "cell_type": "code",
      "metadata": {
        "id": "P_8Zn_PJJRWV"
      },
      "source": [
        "df.columns = ['Date_of_cr', 'Customer_id', 'First_name', 'Last_name', 'Gender',\n",
        "       'Email', 'Phone', 'Age', 'Occupation', 'Income', 'Marital_status',\n",
        "       'Principle_Amount', 'Interest_rate', 'Processing_fee', 'Tenure', 'EMI',\n",
        "       'First_duedate', 'Tenure_rem', 'Principle_amt_rem', 'Last_duedate',\n",
        "       'Next_duedate', 'Loan_status', 'Loan_purpose']"
      ],
      "execution_count": 189,
      "outputs": []
    },
    {
      "cell_type": "code",
      "metadata": {
        "id": "gNFqDgsw0t1O",
        "outputId": "c5125b31-9eee-44a8-abcb-dd6e4a70435d",
        "colab": {
          "base_uri": "https://localhost:8080/",
          "height": 266
        }
      },
      "source": [
        "df.head()"
      ],
      "execution_count": 190,
      "outputs": [
        {
          "output_type": "execute_result",
          "data": {
            "text/html": [
              "<div>\n",
              "<style scoped>\n",
              "    .dataframe tbody tr th:only-of-type {\n",
              "        vertical-align: middle;\n",
              "    }\n",
              "\n",
              "    .dataframe tbody tr th {\n",
              "        vertical-align: top;\n",
              "    }\n",
              "\n",
              "    .dataframe thead th {\n",
              "        text-align: right;\n",
              "    }\n",
              "</style>\n",
              "<table border=\"1\" class=\"dataframe\">\n",
              "  <thead>\n",
              "    <tr style=\"text-align: right;\">\n",
              "      <th></th>\n",
              "      <th>Date_of_cr</th>\n",
              "      <th>Customer_id</th>\n",
              "      <th>First_name</th>\n",
              "      <th>Last_name</th>\n",
              "      <th>Gender</th>\n",
              "      <th>Email</th>\n",
              "      <th>Phone</th>\n",
              "      <th>Age</th>\n",
              "      <th>Occupation</th>\n",
              "      <th>Income</th>\n",
              "      <th>Marital_status</th>\n",
              "      <th>Principle_Amount</th>\n",
              "      <th>Interest_rate</th>\n",
              "      <th>Processing_fee</th>\n",
              "      <th>Tenure</th>\n",
              "      <th>EMI</th>\n",
              "      <th>First_duedate</th>\n",
              "      <th>Tenure_rem</th>\n",
              "      <th>Principle_amt_rem</th>\n",
              "      <th>Last_duedate</th>\n",
              "      <th>Next_duedate</th>\n",
              "      <th>Loan_status</th>\n",
              "      <th>Loan_purpose</th>\n",
              "    </tr>\n",
              "  </thead>\n",
              "  <tbody>\n",
              "    <tr>\n",
              "      <th>0</th>\n",
              "      <td>2018-01-01</td>\n",
              "      <td>1000049</td>\n",
              "      <td>Gulshan</td>\n",
              "      <td>Male</td>\n",
              "      <td>Bava</td>\n",
              "      <td>gulshan.bava@dummyemail.com</td>\n",
              "      <td>7719603790</td>\n",
              "      <td>53</td>\n",
              "      <td>Machinist</td>\n",
              "      <td>2713585</td>\n",
              "      <td>Widowed</td>\n",
              "      <td>2968000</td>\n",
              "      <td>20.06</td>\n",
              "      <td>10388.0</td>\n",
              "      <td>36</td>\n",
              "      <td>82446.12</td>\n",
              "      <td>2018-01-24</td>\n",
              "      <td>7</td>\n",
              "      <td>1533437.51</td>\n",
              "      <td>2021-01-24</td>\n",
              "      <td>2020-06-24</td>\n",
              "      <td>Sold</td>\n",
              "      <td>Medical Expense</td>\n",
              "    </tr>\n",
              "    <tr>\n",
              "      <th>1</th>\n",
              "      <td>2018-01-01</td>\n",
              "      <td>1000063</td>\n",
              "      <td>Vaijanti</td>\n",
              "      <td>Female</td>\n",
              "      <td>Buch</td>\n",
              "      <td>vaijanti.buch@dummyemail.com</td>\n",
              "      <td>7335296926</td>\n",
              "      <td>54</td>\n",
              "      <td>Musician</td>\n",
              "      <td>1124190</td>\n",
              "      <td>Divorced</td>\n",
              "      <td>571000</td>\n",
              "      <td>19.44</td>\n",
              "      <td>1998.5</td>\n",
              "      <td>24</td>\n",
              "      <td>23793.29</td>\n",
              "      <td>2018-01-02</td>\n",
              "      <td>3</td>\n",
              "      <td>271204.55</td>\n",
              "      <td>2020-01-02</td>\n",
              "      <td>2019-10-02</td>\n",
              "      <td>Sold</td>\n",
              "      <td>Bill Payments</td>\n",
              "    </tr>\n",
              "    <tr>\n",
              "      <th>2</th>\n",
              "      <td>2018-01-01</td>\n",
              "      <td>1000080</td>\n",
              "      <td>Karishma</td>\n",
              "      <td>Female</td>\n",
              "      <td>Atwal</td>\n",
              "      <td>karishma.atwal@dummyemail.com</td>\n",
              "      <td>7246621725</td>\n",
              "      <td>25</td>\n",
              "      <td>Political scientist</td>\n",
              "      <td>1469519</td>\n",
              "      <td>Divorced</td>\n",
              "      <td>2070000</td>\n",
              "      <td>18.99</td>\n",
              "      <td>7245.0</td>\n",
              "      <td>24</td>\n",
              "      <td>86251.58</td>\n",
              "      <td>2018-01-10</td>\n",
              "      <td>7</td>\n",
              "      <td>1190233.88</td>\n",
              "      <td>2020-01-10</td>\n",
              "      <td>2019-06-10</td>\n",
              "      <td>Sold</td>\n",
              "      <td>Emergency Expenses</td>\n",
              "    </tr>\n",
              "    <tr>\n",
              "      <th>3</th>\n",
              "      <td>2018-01-01</td>\n",
              "      <td>1000172</td>\n",
              "      <td>Km</td>\n",
              "      <td>Female</td>\n",
              "      <td>Ghosh</td>\n",
              "      <td>km.ghosh@dummyemail.com</td>\n",
              "      <td>9002228760</td>\n",
              "      <td>35</td>\n",
              "      <td>Musician</td>\n",
              "      <td>510205</td>\n",
              "      <td>Married</td>\n",
              "      <td>1260000</td>\n",
              "      <td>17.90</td>\n",
              "      <td>4410.0</td>\n",
              "      <td>48</td>\n",
              "      <td>26251.49</td>\n",
              "      <td>2018-01-10</td>\n",
              "      <td>29</td>\n",
              "      <td>960733.01</td>\n",
              "      <td>2022-01-10</td>\n",
              "      <td>2019-08-10</td>\n",
              "      <td>Sold</td>\n",
              "      <td>Home Repairs</td>\n",
              "    </tr>\n",
              "    <tr>\n",
              "      <th>4</th>\n",
              "      <td>2018-01-01</td>\n",
              "      <td>1000197</td>\n",
              "      <td>Deepa</td>\n",
              "      <td>Male</td>\n",
              "      <td>Devi</td>\n",
              "      <td>deepa.devi@dummyemail.com</td>\n",
              "      <td>9318153375</td>\n",
              "      <td>29</td>\n",
              "      <td>Health professional</td>\n",
              "      <td>1125503</td>\n",
              "      <td>Divorced</td>\n",
              "      <td>2471000</td>\n",
              "      <td>23.68</td>\n",
              "      <td>8648.5</td>\n",
              "      <td>48</td>\n",
              "      <td>51481.14</td>\n",
              "      <td>2018-01-02</td>\n",
              "      <td>9</td>\n",
              "      <td>1266341.32</td>\n",
              "      <td>2022-01-02</td>\n",
              "      <td>2021-04-02</td>\n",
              "      <td>Active</td>\n",
              "      <td>Emergency Expenses</td>\n",
              "    </tr>\n",
              "  </tbody>\n",
              "</table>\n",
              "</div>"
            ],
            "text/plain": [
              "  Date_of_cr  Customer_id  ... Loan_status        Loan_purpose\n",
              "0 2018-01-01      1000049  ...        Sold     Medical Expense\n",
              "1 2018-01-01      1000063  ...        Sold       Bill Payments\n",
              "2 2018-01-01      1000080  ...        Sold  Emergency Expenses\n",
              "3 2018-01-01      1000172  ...        Sold        Home Repairs\n",
              "4 2018-01-01      1000197  ...      Active  Emergency Expenses\n",
              "\n",
              "[5 rows x 23 columns]"
            ]
          },
          "metadata": {
            "tags": []
          },
          "execution_count": 190
        }
      ]
    },
    {
      "cell_type": "code",
      "metadata": {
        "id": "0bQvmFoCpYqa"
      },
      "source": [
        "df.to_csv('Personal_loan_dataset.csv')"
      ],
      "execution_count": 191,
      "outputs": []
    },
    {
      "cell_type": "code",
      "metadata": {
        "id": "2UpLpGgWpYmu"
      },
      "source": [
        ""
      ],
      "execution_count": null,
      "outputs": []
    },
    {
      "cell_type": "code",
      "metadata": {
        "id": "VCgGW4h2pYkx"
      },
      "source": [
        ""
      ],
      "execution_count": null,
      "outputs": []
    }
  ]
}